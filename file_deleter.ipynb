{
 "cells": [
  {
   "cell_type": "markdown",
   "id": "6c845a76",
   "metadata": {},
   "source": [
    "# File Deleter for MULTI_FUNC/MULTI_DRIVER"
   ]
  },
  {
   "cell_type": "markdown",
   "id": "3f5f326f",
   "metadata": {},
   "source": [
    "## 1. Create the list of files to delete"
   ]
  },
  {
   "cell_type": "code",
   "execution_count": null,
   "id": "d1556dd5",
   "metadata": {},
   "outputs": [],
   "source": [
    "from calendar import Calendar, monthrange\n",
    "import time\n",
    "import os\n",
    "\n",
    "c = Calendar()\n",
    "\n",
    "# Define the range of years and months to delete\n",
    "start_year = 2020\n",
    "start_month = 1\n",
    "start_day = 1\n",
    "\n",
    "end_year = 2024\n",
    "end_month = 12\n",
    "\n",
    "dmy_list = []\n",
    "\n",
    "# Generate the list of dates\n",
    "for year in range(start_year, end_year + 1):\n",
    "    last_month = end_month if year == end_year else 12\n",
    "    for month in range(start_month, last_month + 1):\n",
    "        for date in c.itermonthdates(year, month):\n",
    "            if date.month == month:\n",
    "                if year == start_year and month == start_month and date.day < start_day:\n",
    "                    continue\n",
    "                dmy_list.append(f\"{date.year}-{date.month:02d}-{date.day:02d}\")\n",
    "\n",
    "print(dmy_list)\n",
    "\n",
    "# Generate file names\n",
    "raw_fname = []\n",
    "for dmy in dmy_list:\n",
    "    year, month, day = dmy.split('-')\n",
    "    for hour in ['00', '06', '12', '18']:\n",
    "        raw_fname.append(f\"gfs.0p25.{year}{month}{day}{hour}.f000.grib2\")\n",
    "            \n",
    "print(raw_fname)"
   ]
  },
  {
   "cell_type": "markdown",
   "id": "05ac3f66",
   "metadata": {},
   "source": [
    "## 2. Automated Deleter (adjust as needed)"
   ]
  },
  {
   "cell_type": "code",
   "execution_count": null,
   "id": "046e69ff",
   "metadata": {
    "scrolled": false
   },
   "outputs": [],
   "source": [
    "# Wait 100 seconds before starting the loop\n",
    "time.sleep(100)\n",
    "# over_load helps to loop back to the beginning in case the deleter deletes at a faster rate than multi_driver downloads the file\n",
    "over_load= 0\n",
    "while over_load < 30:\n",
    "    for i in range(len(raw_fname)):\n",
    "        print('deleting file:' + raw_fname[i])\n",
    "        filename = os.path.basename(raw_fname[i])\n",
    "        # Change save_dir and file_path as needed\n",
    "        save_dir = '/Users/trak/Downloads/TEMPOOL/'\n",
    "        file_path = save_dir + filename\n",
    "        # Continue searching until file exists\n",
    "        if not os.path.exists(file_path):\n",
    "            print('File not found...searching next')\n",
    "        # If exists, delete the file\n",
    "        if os.path.exists(file_path):\n",
    "            os.remove(file_path)\n",
    "            print('deleted')\n",
    "            print('waiting')\n",
    "            # Adjust waiting time based on downloading speed and network speed\n",
    "            time.sleep(70)\n",
    "    over_load += 1\n",
    "    # The code either finished or the function ran faster than download speed and has looped. Wait 30 seconds so the next file can load first. \n",
    "    # Adjust time as needed\n",
    "    time.sleep(30)"
   ]
  }
 ],
 "metadata": {
  "kernelspec": {
   "display_name": "Python 3 (ipykernel)",
   "language": "python",
   "name": "python3"
  },
  "language_info": {
   "codemirror_mode": {
    "name": "ipython",
    "version": 3
   },
   "file_extension": ".py",
   "mimetype": "text/x-python",
   "name": "python",
   "nbconvert_exporter": "python",
   "pygments_lexer": "ipython3",
   "version": "3.11.5"
  }
 },
 "nbformat": 4,
 "nbformat_minor": 5
}
