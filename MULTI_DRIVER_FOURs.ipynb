{
 "cells": [
  {
   "cell_type": "markdown",
   "id": "e5e2eb58",
   "metadata": {},
   "source": [
    "# Driver for MultiProcessing NCEP Data"
   ]
  },
  {
   "cell_type": "markdown",
   "id": "0c406fbd",
   "metadata": {},
   "source": [
    "## 1. Install the libraries needed to run the program"
   ]
  },
  {
   "cell_type": "code",
   "execution_count": null,
   "id": "8d915145",
   "metadata": {
    "scrolled": true
   },
   "outputs": [],
   "source": [
    "# Only run this the first time running this program. There may be some other dependencies you may need to install. \n",
    "# Check the requirements based on the error.\n",
    "\n",
    "!pip install --upgrade bottleneck\n",
    "!pip install cfgrib==0.9.13.0\n",
    "!pip install ipynb\n",
    "!pip install pandas\n",
    "!pip install requests\n",
    "!pip install xarray\n",
    "!pip install multiprocess\n",
    "!pip install python-csv"
   ]
  },
  {
   "cell_type": "markdown",
   "id": "fcd7d319",
   "metadata": {},
   "source": [
    "## 2. Import and set local directory"
   ]
  },
  {
   "cell_type": "code",
   "execution_count": null,
   "id": "7034b7ad",
   "metadata": {},
   "outputs": [],
   "source": [
    "import os\n",
    "import requests\n",
    "import xarray as xr\n",
    "from multiprocessing import Pool\n",
    "from ipynb.fs.defs.MULTI_FUNC import process_file\n",
    "import csv\n",
    "\n",
    "\n",
    "# Set the directory\n",
    "desired_directory = '/Users/trak/Downloads/TEMPOOL'\n",
    "\n",
    "# Change the current working directory\n",
    "os.chdir(desired_directory)\n",
    "\n",
    "# Verify the change\n",
    "print(\"Current Working Directory: \", os.getcwd())"
   ]
  },
  {
   "cell_type": "markdown",
   "id": "e79cc559",
   "metadata": {},
   "source": [
    "## 3. Define the Range of Date/month/year to pull"
   ]
  },
  {
   "cell_type": "code",
   "execution_count": null,
   "id": "f09ebd9f",
   "metadata": {},
   "outputs": [],
   "source": [
    "from calendar import Calendar, monthrange\n",
    "\n",
    "c = Calendar()\n",
    "\n",
    "# Define the range of years and months and date\n",
    "start_year = 2020\n",
    "start_month = 1\n",
    "start_day = 1\n",
    "\n",
    "end_year = 2024\n",
    "end_month = 12\n",
    "\n",
    "dmy_list = []\n",
    "\n",
    "# Generate the list of dates\n",
    "for year in range(start_year, end_year + 1):\n",
    "    last_month = end_month if year == end_year else 12\n",
    "    for month in range(start_month, last_month + 1):\n",
    "        for date in c.itermonthdates(year, month):\n",
    "            if date.month == month:\n",
    "                if year == start_year and month == start_month and date.day < start_day:\n",
    "                    continue\n",
    "                dmy_list.append(f\"{date.year}-{date.month:02d}-{date.day:02d}\")\n",
    "\n",
    "#Verify the dates \n",
    "print(dmy_list)\n",
    "print(len(dmy_list))"
   ]
  },
  {
   "cell_type": "markdown",
   "id": "a3ccc56f",
   "metadata": {},
   "source": [
    "## 4. Set the lat,lon pair "
   ]
  },
  {
   "cell_type": "code",
   "execution_count": null,
   "id": "b9be7657",
   "metadata": {},
   "outputs": [],
   "source": [
    "# The top lat corresponds to the bottom lon at the same index. Add as needed\n",
    "lat_l= [13.75,13.75,14,13.75]\n",
    "lon_l= [100.5,100.75,100.5,100.25]"
   ]
  },
  {
   "cell_type": "markdown",
   "id": "0e88e392",
   "metadata": {},
   "source": [
    "## 5. Generate all the file names to extract"
   ]
  },
  {
   "cell_type": "code",
   "execution_count": null,
   "id": "ff9a05fa",
   "metadata": {},
   "outputs": [],
   "source": [
    "# Generate the list of files to load\n",
    "file_to_load = []\n",
    "# Add pixels as needed. Pixel number corresponds to the number of lat,lon pairs above\n",
    "pixID= ['A','B','C','D']\n",
    "for dmy in dmy_list:\n",
    "    year, month, day = dmy.split('-')\n",
    "    # Pull from 00,06,12,18\n",
    "    for hour in ['00', '06', '12', '18']:\n",
    "        for i in range(len(pixID)):\n",
    "            file_to_load.append((dmy, hour, f\"https://data.rda.ucar.edu/ds084.1/{year}/{year}{month}{day}/gfs.0p25.{year}{month}{day}{hour}.f000.grib2\",pixID[i],lat_l[i],lon_l[i]))\n",
    "\n",
    "# Print the total number of files and test a file name below\n",
    "print(f\"Total files to process: {len(file_to_load)}\")\n",
    "print(file_to_load[12])"
   ]
  },
  {
   "cell_type": "markdown",
   "id": "d9951a72",
   "metadata": {},
   "source": [
    "## 6. Main Program"
   ]
  },
  {
   "cell_type": "code",
   "execution_count": null,
   "id": "e7eaa4ef",
   "metadata": {},
   "outputs": [],
   "source": [
    "%%capture\n",
    "\n",
    "import multiprocessing as mp\n",
    "import os\n",
    "import requests\n",
    "import xarray as xr\n",
    "from multiprocessing import Pool\n",
    "from ipynb.fs.defs.MULTI_FUNC_FOURs import wrapper_process_file\n",
    "import csv\n",
    "from IPython.display import clear_output\n",
    "\n",
    "\n",
    "\n",
    "# Process files in chunks\n",
    "chunk_size = 1  # Adjust this based on memory constraints\n",
    "for i in range(0, len(file_to_load), chunk_size):\n",
    "    clear_output(wait=True)\n",
    "    chunk = file_to_load[i:i+chunk_size]\n",
    "    # Use manager to make sure the multiprocess adds the output in order\n",
    "    with mp.Manager() as manager:\n",
    "        VR = manager.dict()\n",
    "        P = manager.dict()\n",
    "        G = manager.dict()\n",
    "        meta = manager.dict()\n",
    "        u10 = manager.dict()\n",
    "        u20 = manager.dict()\n",
    "        u30 = manager.dict()\n",
    "        u40 = manager.dict()\n",
    "        u50 = manager.dict()\n",
    "        u80 = manager.dict()\n",
    "        u100 = manager.dict()\n",
    "        v10 = manager.dict()\n",
    "        v20 = manager.dict()\n",
    "        v30 = manager.dict()\n",
    "        v40 = manager.dict()\n",
    "        v50 = manager.dict()\n",
    "        v80 = manager.dict()\n",
    "        v100 = manager.dict()\n",
    "        PR = manager.dict()\n",
    "        T = manager.dict()\n",
    "        \n",
    "        # Run multiprocessing in chunks\n",
    "        processes = []\n",
    "        for idx, (dmy, hour, file,pix,lat,lon) in enumerate(chunk):\n",
    "            p = mp.Process(target=wrapper_process_file, args=(file, VR, P, G,PR,T, idx, meta,u10,u20,u30,u40,u50,u80,u100,v10,v20,v30,v40,v50,v80,v100,pix,lat,lon))\n",
    "            p.start()\n",
    "            processes.append(p)\n",
    "            clear_output(wait=True)\n",
    "        \n",
    "        for p in processes:\n",
    "            p.join()\n",
    "            clear_output(wait=True)\n",
    "        \n",
    "        # Collect results\n",
    "        fields = ['Date', 'Time', 'VRATE', 'PBLH', 'WIND_SPEED(GUST)','PRATE','Temp','pixelID','lat','lon','u10','v10','u20','v20','u30','v30','u40','v40','u50','v50','u80','v80','u100','v100', 'file']\n",
    "        rows = []\n",
    "        # Write results to csv file\n",
    "        for idx, (dmy, hour, file,pix,lat,lon) in enumerate(chunk):\n",
    "            rows.append([dmy, hour, VR.get(idx), P.get(idx), G.get(idx),PR.get(idx),T.get(idx),pix,lat,lon,u10.get(idx),u20.get(idx),u30.get(idx),u40.get(idx),u50.get(idx),u80.get(idx),u100.get(idx),v10.get(idx),v20.get(idx),v30.get(idx),v40.get(idx),v50.get(idx),v80.get(idx),v100.get(idx),meta.get(idx)])\n",
    "        with open('YOURFILENAME.csv', 'a') as csvfile:\n",
    "            csvwriter = csv.writer(csvfile)\n",
    "            if i == 0:\n",
    "                csvwriter.writerow(fields)  # Write header only once\n",
    "            csvwriter.writerows(rows)\n",
    "        \n",
    "        # Clear memory\n",
    "        del VR, P, G, meta,u10,u20,u30,u40,u50,u80,u100,v10,v20,v30,v40,v50,v80,v100,PR,T\n",
    "\n",
    "\n",
    "print(\"Processing complete.\")\n"
   ]
  }
 ],
 "metadata": {
  "kernelspec": {
   "display_name": "Python 3 (ipykernel)",
   "language": "python",
   "name": "python3"
  },
  "language_info": {
   "codemirror_mode": {
    "name": "ipython",
    "version": 3
   },
   "file_extension": ".py",
   "mimetype": "text/x-python",
   "name": "python",
   "nbconvert_exporter": "python",
   "pygments_lexer": "ipython3",
   "version": "3.11.5"
  }
 },
 "nbformat": 4,
 "nbformat_minor": 5
}
